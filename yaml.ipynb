{
 "cells": [
  {
   "cell_type": "code",
   "execution_count": 2,
   "metadata": {},
   "outputs": [],
   "source": [
    "import yaml"
   ]
  },
  {
   "cell_type": "code",
   "execution_count": 3,
   "metadata": {},
   "outputs": [
    {
     "data": {
      "text/plain": [
       "{'rest': {'url': 'https://example.org/primenumbers/v1', 'port': 8443},\n",
       " 'prime_numbers': [2, 3, 5, 7, 11, 13, 17, 19]}"
      ]
     },
     "execution_count": 3,
     "metadata": {},
     "output_type": "execute_result"
    }
   ],
   "source": [
    "with open('config.yaml', 'r') as file:\n",
    "        prime_service = yaml.safe_load(file)\n",
    "        \n",
    "prime_service"
   ]
  },
  {
   "cell_type": "code",
   "execution_count": 4,
   "metadata": {},
   "outputs": [
    {
     "data": {
      "text/plain": [
       "'https://example.org/primenumbers/v1'"
      ]
     },
     "execution_count": 4,
     "metadata": {},
     "output_type": "execute_result"
    }
   ],
   "source": [
    "prime_service['rest']['url']"
   ]
  },
  {
   "cell_type": "code",
   "execution_count": 6,
   "metadata": {},
   "outputs": [
    {
     "data": {
      "text/plain": [
       "11"
      ]
     },
     "execution_count": 6,
     "metadata": {},
     "output_type": "execute_result"
    }
   ],
   "source": [
    "prime_service['prime_numbers'][4]"
   ]
  },
  {
   "cell_type": "code",
   "execution_count": 7,
   "metadata": {},
   "outputs": [
    {
     "data": {
      "text/plain": [
       "['eric', 'justin', 'mary-kate']"
      ]
     },
     "execution_count": 7,
     "metadata": {},
     "output_type": "execute_result"
    }
   ],
   "source": [
    "names_yaml = \"\"\"\n",
    "... - 'eric'\n",
    "... - 'justin'\n",
    "... - 'mary-kate'\n",
    "... \"\"\"\n",
    "\n",
    "names = yaml.safe_load(names_yaml)\n",
    "names"
   ]
  },
  {
   "cell_type": "code",
   "execution_count": 8,
   "metadata": {},
   "outputs": [
    {
     "name": "stdout",
     "output_type": "stream",
     "text": [
      "- eric\n",
      "- justin\n",
      "- mary-kate\n",
      "\n"
     ]
    }
   ],
   "source": [
    "with open('names.yaml', 'w') as file:\n",
    "    yaml.dump(names, file)\n",
    "\n",
    "print(open('names.yaml').read())"
   ]
  },
  {
   "cell_type": "code",
   "execution_count": 9,
   "metadata": {},
   "outputs": [
    {
     "name": "stdout",
     "output_type": "stream",
     "text": [
      "{'document': 1, 'name': 'erik'}\n",
      "{'document': 2, 'name': 'config'}\n"
     ]
    }
   ],
   "source": [
    "with open('multi_doc.yml', 'r') as file:\n",
    "    docs = yaml.safe_load_all(file)\n",
    "\n",
    "    for doc in docs:\n",
    "        print(doc)"
   ]
  },
  {
   "cell_type": "code",
   "execution_count": 11,
   "metadata": {},
   "outputs": [
    {
     "name": "stdout",
     "output_type": "stream",
     "text": [
      "{\n",
      "  \"rest\": {\n",
      "    \"url\": \"https://example.org/primenumbers/v1\",\n",
      "    \"port\": 8443\n",
      "  },\n",
      "  \"prime_numbers\": [\n",
      "    2,\n",
      "    3,\n",
      "    5,\n",
      "    7,\n",
      "    11,\n",
      "    13,\n",
      "    17,\n",
      "    19\n",
      "  ]\n",
      "}\n"
     ]
    }
   ],
   "source": [
    "import json\n",
    "\n",
    "with open('config.yaml', 'r') as file:\n",
    "    configuration = yaml.safe_load(file)\n",
    "\n",
    "with open('config.json', 'w') as json_file:\n",
    "    json.dump(configuration, json_file)\n",
    "    \n",
    "output = json.dumps(json.load(open('config.json')), indent=2)\n",
    "print(output)"
   ]
  },
  {
   "cell_type": "code",
   "execution_count": 12,
   "metadata": {},
   "outputs": [
    {
     "name": "stdout",
     "output_type": "stream",
     "text": [
      "prime_numbers:\n",
      "- 2\n",
      "- 3\n",
      "- 5\n",
      "- 7\n",
      "- 11\n",
      "- 13\n",
      "- 17\n",
      "- 19\n",
      "rest:\n",
      "  port: 8443\n",
      "  url: https://example.org/primenumbers/v1\n",
      "\n"
     ]
    }
   ],
   "source": [
    "with open('config.json', 'r') as file:\n",
    "    configuration = json.load(file)\n",
    "\n",
    "with open('config1.yml', 'w') as yaml_file:\n",
    "    yaml.dump(configuration, yaml_file)\n",
    "\n",
    "with open('config1.yml', 'r') as yaml_file:\n",
    "    print(yaml_file.read())"
   ]
  },
  {
   "cell_type": "code",
   "execution_count": null,
   "metadata": {},
   "outputs": [],
   "source": []
  }
 ],
 "metadata": {
  "kernelspec": {
   "display_name": "Python 3",
   "language": "python",
   "name": "python3"
  },
  "language_info": {
   "codemirror_mode": {
    "name": "ipython",
    "version": 3
   },
   "file_extension": ".py",
   "mimetype": "text/x-python",
   "name": "python",
   "nbconvert_exporter": "python",
   "pygments_lexer": "ipython3",
   "version": "3.11.2"
  }
 },
 "nbformat": 4,
 "nbformat_minor": 2
}
